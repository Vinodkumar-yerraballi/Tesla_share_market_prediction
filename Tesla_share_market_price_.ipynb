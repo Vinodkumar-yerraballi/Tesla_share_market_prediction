{
  "nbformat": 4,
  "nbformat_minor": 0,
  "metadata": {
    "colab": {
      "private_outputs": true,
      "provenance": []
    },
    "kernelspec": {
      "name": "python3",
      "display_name": "Python 3"
    },
    "language_info": {
      "name": "python"
    },
    "accelerator": "GPU",
    "gpuClass": "standard"
  },
  "cells": [
    {
      "cell_type": "code",
      "source": [
        "# import necesary librires\n",
        "import pandas as pd\n",
        "import numpy as np\n",
        "import matplotlib.pyplot as plt\n",
        "import seaborn as sns\n",
        "import plotly.express as px"
      ],
      "metadata": {
        "id": "nuFrY063-8WP"
      },
      "execution_count": null,
      "outputs": []
    },
    {
      "cell_type": "code",
      "source": [
        "from google.colab import files\n",
        "\n",
        "\n",
        "uploaded = files.upload()"
      ],
      "metadata": {
        "id": "u8rdjscP_r8s"
      },
      "execution_count": null,
      "outputs": []
    },
    {
      "cell_type": "code",
      "source": [
        "#Read the data using the pandas\n",
        "data=pd.read_csv('TSLA (2).csv')\n",
        "data.head().style.background_gradient(cmap='jet')"
      ],
      "metadata": {
        "id": "W8dOYzbN_v8d"
      },
      "execution_count": null,
      "outputs": []
    },
    {
      "cell_type": "code",
      "source": [
        "#data information\n",
        "data.info()"
      ],
      "metadata": {
        "id": "XZAUJomrAIL1"
      },
      "execution_count": null,
      "outputs": []
    },
    {
      "cell_type": "code",
      "source": [
        "#Data shape\n",
        "data.shape"
      ],
      "metadata": {
        "id": "hr1RQwa4ASOU"
      },
      "execution_count": null,
      "outputs": []
    },
    {
      "cell_type": "code",
      "source": [
        "#data length\n",
        "len(data)"
      ],
      "metadata": {
        "id": "sjYOtFTjAg26"
      },
      "execution_count": null,
      "outputs": []
    },
    {
      "cell_type": "code",
      "source": [
        "#data stastics\n",
        "data.describe().style.background_gradient(cmap='winter')"
      ],
      "metadata": {
        "id": "YjJaMHYbAp6C"
      },
      "execution_count": null,
      "outputs": []
    },
    {
      "cell_type": "markdown",
      "source": [
        " ***EDAProcess***"
      ],
      "metadata": {
        "id": "JTa_AmDXjelV"
      }
    },
    {
      "cell_type": "code",
      "source": [
        "fig=px.line(data,x='Date',y='Adj Close',title='Tesla  Adj Close price')\n",
        "fig.update_layout(bargap=0.5,plot_bgcolor='pink')\n",
        "fig.show()"
      ],
      "metadata": {
        "id": "rQRrcYFciNEY"
      },
      "execution_count": null,
      "outputs": []
    },
    {
      "cell_type": "code",
      "source": [
        "fig=px.line(data,x='Date',y='High',title='Tesla High and share price')\n",
        "fig.update_layout(bargap=0.5,plot_bgcolor='green',template = \"plotly_dark\")\n",
        "fig.show()"
      ],
      "metadata": {
        "id": "U0-Wh1HviIiy"
      },
      "execution_count": null,
      "outputs": []
    },
    {
      "cell_type": "code",
      "source": [
        "fig=px.line(data,x='Date',y='Close',title='Tesla data and Close price')\n",
        "fig.update_layout(bargap=0.5,plot_bgcolor='yellow',template = \"plotly_dark\")\n",
        "fig.show()"
      ],
      "metadata": {
        "id": "1KeA4YfSiD1w"
      },
      "execution_count": null,
      "outputs": []
    },
    {
      "cell_type": "code",
      "source": [
        "fig=px.line(data,x='Date',y='High',title='Tesla data and High price')\n",
        "fig.update_layout(bargap=0.5,plot_bgcolor='red',template = \"plotly_dark\")\n",
        "fig.show()"
      ],
      "metadata": {
        "id": "yVU-Eok0h-YZ"
      },
      "execution_count": null,
      "outputs": []
    },
    {
      "cell_type": "code",
      "source": [
        "fig=px.line(data,x='Date',y='Open',title='Tesla data and Open price')\n",
        "fig.update_layout(bargap=0.5,plot_bgcolor='cornflowerblue',template = \"plotly_dark\")\n",
        "fig.show()"
      ],
      "metadata": {
        "id": "OOKU2ydwh5D5"
      },
      "execution_count": null,
      "outputs": []
    },
    {
      "cell_type": "code",
      "source": [
        "fig=px.line(data,x='Date',y='Volume',title='Tesla data and Volume price')\n",
        "fig.update_layout(bargap=0.5,plot_bgcolor='seashell',template = \"plotly_dark\")\n",
        "fig.show()"
      ],
      "metadata": {
        "id": "1o0voxHBhcum"
      },
      "execution_count": null,
      "outputs": []
    },
    {
      "cell_type": "code",
      "source": [
        "fig=px.line(data,y='Close',title='Tesla opening and closing share market price')\n",
        "fig.update_layout(bargap=0.5,plot_bgcolor='gray',template = \"plotly_dark\")\n",
        "fig.show()"
      ],
      "metadata": {
        "id": "CYsTi2ILCIwk"
      },
      "execution_count": null,
      "outputs": []
    },
    {
      "cell_type": "code",
      "source": [
        "#Let's create the tesal variable with close column\n",
        "tesla=data['Close']\n",
        "tesla"
      ],
      "metadata": {
        "id": "oaIO9Uanf_Bv"
      },
      "execution_count": null,
      "outputs": []
    },
    {
      "cell_type": "code",
      "source": [
        "#reset the index\n",
        "tesla.reset_index(drop=True,inplace=True)\n",
        "tesla"
      ],
      "metadata": {
        "id": "6JtsTnBJgNDo"
      },
      "execution_count": null,
      "outputs": []
    },
    {
      "cell_type": "code",
      "source": [
        "#check the shape\n",
        "tesla.shape"
      ],
      "metadata": {
        "id": "WOlOEJyngXZL"
      },
      "execution_count": null,
      "outputs": []
    },
    {
      "cell_type": "code",
      "source": [
        "#let's create the dataframe for tesla\n",
        "tesla=pd.DataFrame(tesla)\n",
        "tesla.head()"
      ],
      "metadata": {
        "id": "oHoxmH-pgbxG"
      },
      "execution_count": null,
      "outputs": []
    },
    {
      "cell_type": "code",
      "source": [
        "#let's check the length of the dataframe using the math models\n",
        "import math\n",
        "train_len=math.ceil(len(tesla)*0.8)\n",
        "train_len"
      ],
      "metadata": {
        "id": "17Ng6QFMmY3a"
      },
      "execution_count": null,
      "outputs": []
    },
    {
      "cell_type": "code",
      "source": [
        "#divided the data into train and test\n",
        "train=tesla.iloc[:750]\n",
        "test=tesla.iloc[750:]"
      ],
      "metadata": {
        "id": "pHYqNrTSggeY"
      },
      "execution_count": null,
      "outputs": []
    },
    {
      "cell_type": "code",
      "source": [
        "# import the MinMaxScaler to scaling the values\n",
        "from sklearn.preprocessing import MinMaxScaler\n",
        "#install the MinMaxScaler\n",
        "scaler=MinMaxScaler()\n",
        "#fit the data\n",
        "scaler.fit(train)\n",
        "#transform the train and test data using the minmaxscler\n",
        "scaled_train=scaler.transform(train)\n",
        "scaled_test=scaler.transform(test)"
      ],
      "metadata": {
        "id": "3O9LYnWPg0mg"
      },
      "execution_count": null,
      "outputs": []
    },
    {
      "cell_type": "code",
      "source": [
        "#Check the scaled train data shape\n",
        "scaled_train.shape"
      ],
      "metadata": {
        "id": "UN1hMo11vepv"
      },
      "execution_count": null,
      "outputs": []
    },
    {
      "cell_type": "code",
      "source": [
        "#let's check the scaled test data shape\n",
        "scaled_test.shape"
      ],
      "metadata": {
        "id": "4NEGvXVnvjZ5"
      },
      "execution_count": null,
      "outputs": []
    },
    {
      "cell_type": "code",
      "source": [
        "#import TimeseriesGenerator from tensorflow\n",
        "from tensorflow.keras.preprocessing.sequence import TimeseriesGenerator"
      ],
      "metadata": {
        "id": "m9GXxNEkhOew"
      },
      "execution_count": null,
      "outputs": []
    },
    {
      "cell_type": "code",
      "source": [
        "#lets create the generator variable using the TimeseriesGenerator function with length and batch_size\n",
        "length=604\n",
        "batch_size=32\n",
        "generator=TimeseriesGenerator(scaled_train,scaled_train,length=length,batch_size=batch_size)"
      ],
      "metadata": {
        "id": "LFmdNwkVhmRK"
      },
      "execution_count": null,
      "outputs": []
    },
    {
      "cell_type": "code",
      "source": [
        "#import the necessary librires for model \n",
        "from tensorflow.keras.models import Sequential\n",
        "from tensorflow.keras.layers import Dense,SimpleRNN,LSTM,Dropout"
      ],
      "metadata": {
        "id": "9Z-2SE6aiAbh"
      },
      "execution_count": null,
      "outputs": []
    },
    {
      "cell_type": "code",
      "source": [
        "#To create the model usint the tensorflow with features\n",
        "n_features=1\n",
        "#create the function Sequential\n",
        "model=Sequential()\n",
        "#Let's add the data to simpleRNN function with paraments\n",
        "model.add(SimpleRNN(30,input_shape=(length,n_features)))\n",
        "#create the dropout function with learning rate 0.2\n",
        "model.add(Dropout(rate=0.2))\n",
        "#add the dense layer to the model\n",
        "model.add(Dense(1))\n",
        "#compile the model with adam optimizer and mse loss\n",
        "model.compile(optimizer='adam',loss='mse')\n",
        "#And fially fit the data with 10 epochs\n",
        "model.fit_generator(generator,epochs=10,shuffle=False)"
      ],
      "metadata": {
        "id": "vxh7G76yinuE"
      },
      "execution_count": null,
      "outputs": []
    },
    {
      "cell_type": "code",
      "source": [
        "#Create a dataframe of model history and visualize it\n",
        "loss=pd.DataFrame(model.history.history)\n",
        "loss.plot(color='red')"
      ],
      "metadata": {
        "id": "lieTjNqsjdXr"
      },
      "execution_count": null,
      "outputs": []
    },
    {
      "cell_type": "code",
      "source": [
        "#check the scaled_train length\n",
        "first_eval_batch=scaled_train[length:]\n",
        "first_eval_batch"
      ],
      "metadata": {
        "id": "JzUZmvmcj-1X"
      },
      "execution_count": null,
      "outputs": []
    },
    {
      "cell_type": "code",
      "source": [
        "#create a empty list for text_prediction\n",
        "text_prediction=[]\n",
        "#check the scaled_train data length and silcing\n",
        "first_eval_batch=scaled_train[-length:]\n",
        "# reshape it\n",
        "current_batch=first_eval_batch.reshape(1,length,n_features)\n",
        "#creat a for loop to predict the text predict and add to the empty list using append function \n",
        "for i in range(len(test)):\n",
        "  current_pred=model.predict(current_batch)[0]\n",
        "  text_prediction.append(current_pred)\n",
        "  current_batch=np.append(current_batch[:,1:,:],[[current_pred]],axis=1)\n"
      ],
      "metadata": {
        "id": "2doDDdPSkg__"
      },
      "execution_count": null,
      "outputs": []
    },
    {
      "cell_type": "code",
      "source": [
        "#convert the text_prediction using the scaler inverse transform\n",
        "text_predictions=scaler.inverse_transform(text_prediction)"
      ],
      "metadata": {
        "id": "r5_FKuw-ollE"
      },
      "execution_count": null,
      "outputs": []
    },
    {
      "cell_type": "code",
      "source": [
        "text_predictions"
      ],
      "metadata": {
        "id": "bUryrvMmpMus"
      },
      "execution_count": null,
      "outputs": []
    },
    {
      "cell_type": "code",
      "source": [
        "#create the data frame using the text_prediction\n",
        "test['predictions']=text_predictions\n",
        "test"
      ],
      "metadata": {
        "id": "XKhPKUtCpmp0"
      },
      "execution_count": null,
      "outputs": []
    },
    {
      "cell_type": "code",
      "source": [
        "#visualize the dataframe using the matplotlib\n",
        "test.plot(figsize=(12,6),color='blue')\n",
        "tesla.plot(color='red')"
      ],
      "metadata": {
        "id": "b2I6o_VSpwEf"
      },
      "execution_count": null,
      "outputs": []
    },
    {
      "cell_type": "code",
      "source": [
        "#let's transform the tesla data covert the scaling\n",
        "scaled_full_data=scaler.fit_transform(tesla)"
      ],
      "metadata": {
        "id": "2Hkw_plvp-9O"
      },
      "execution_count": null,
      "outputs": []
    },
    {
      "cell_type": "code",
      "source": [
        "#create the generator variable using the TimeseriesGenerator with scaled_data\n",
        "generator=TimeseriesGenerator(scaled_full_data,scaled_full_data,length=length,batch_size=batch_size)"
      ],
      "metadata": {
        "id": "512OU9i-qk88"
      },
      "execution_count": null,
      "outputs": []
    },
    {
      "cell_type": "code",
      "source": [
        "#create the sequential function\n",
        "model=Sequential()\n",
        "#add the simplernn to the model with input_shape\n",
        "model.add(SimpleRNN(30,input_shape=(length,n_features)))\n",
        "#add the dropout function with learning rate 0.2\n",
        "model.add(Dropout(rate=0.2))\n",
        "#add the dense layers \n",
        "model.add(Dense(1))\n",
        "#compile the model with adam optimzer and mse loss\n",
        "model.compile(optimizer='adam',loss='mse')\n",
        "#finally fit the data with epoch 10\n",
        "model.fit_generator(generator,epochs=10,shuffle=False)"
      ],
      "metadata": {
        "id": "MWmGslDOq7lq"
      },
      "execution_count": null,
      "outputs": []
    },
    {
      "cell_type": "code",
      "source": [
        "#Create a dataframe of model history and visualize it.\n",
        "full_model=pd.DataFrame(model.history.history)\n",
        "full_model.plot(color='red')"
      ],
      "metadata": {
        "id": "BIvqMOVXrCs_"
      },
      "execution_count": null,
      "outputs": []
    },
    {
      "cell_type": "code",
      "source": [
        "#create a empty list for forecast\n",
        "forecast=[]\n",
        "#using the scaled_train data length\n",
        "first_eval_batch=scaled_train[-length:]\n",
        "#reshape it the aobve variable\n",
        "current_batch=first_eval_batch.reshape(1,length,n_features)\n",
        "#create for loop for predict the prediction and append to the empty list\n",
        "for i in range(20):\n",
        "  current_pred=model.predict(current_batch)[0]\n",
        "  forecast.append(current_pred)\n",
        "  current_batch=np.append(current_batch[:,1:,:],[[current_pred]],axis=1)\n"
      ],
      "metadata": {
        "id": "UE4ERD_NrgZW"
      },
      "execution_count": null,
      "outputs": []
    },
    {
      "cell_type": "code",
      "source": [
        "#let's scaled the above values and transfor the inverse_transform\n",
        "forecast=scaler.inverse_transform(forecast)\n",
        "forecast"
      ],
      "metadata": {
        "id": "MMV9rYDFr4bd"
      },
      "execution_count": null,
      "outputs": []
    },
    {
      "cell_type": "code",
      "source": [
        "#flatten the values\n",
        "forecast.flatten()"
      ],
      "metadata": {
        "id": "nNTiYm3IsFwV"
      },
      "execution_count": null,
      "outputs": []
    },
    {
      "cell_type": "code",
      "source": [
        "#covert the values into array form using numpy\n",
        "df_array=np.array(tesla)\n",
        "df_array"
      ],
      "metadata": {
        "id": "3U96od_fsarT"
      },
      "execution_count": null,
      "outputs": []
    },
    {
      "cell_type": "code",
      "source": [
        "#Create data frame to prediction and test data and visualize it\n",
        "full_data=pd.DataFrame(np.concatenate((df_array.flatten(),forecast.flatten())))\n",
        "full_data.plot()"
      ],
      "metadata": {
        "id": "XnaZ-P7Oslop"
      },
      "execution_count": null,
      "outputs": []
    },
    {
      "cell_type": "markdown",
      "source": [
        "**LSTM**"
      ],
      "metadata": {
        "id": "3STaNAYAtP3j"
      }
    },
    {
      "cell_type": "code",
      "source": [
        "#install the earlystopping function\n",
        "from tensorflow.keras.callbacks import EarlyStopping"
      ],
      "metadata": {
        "id": "V1XXs7nqtSp4"
      },
      "execution_count": null,
      "outputs": []
    },
    {
      "cell_type": "code",
      "source": [
        "early_stop=EarlyStopping(monitor='val_loss',patience=2)"
      ],
      "metadata": {
        "id": "KtmduRjyta-J"
      },
      "execution_count": null,
      "outputs": []
    },
    {
      "cell_type": "code",
      "source": [
        "length"
      ],
      "metadata": {
        "id": "WCwI0HYUt8OV"
      },
      "execution_count": null,
      "outputs": []
    },
    {
      "cell_type": "code",
      "source": [
        "scaled_test.shape"
      ],
      "metadata": {
        "id": "7mfo78MFt9ZX"
      },
      "execution_count": null,
      "outputs": []
    },
    {
      "cell_type": "code",
      "source": [
        "#create two variable such as generator and validataion_generator with length and apply the two valrable to the model\n",
        "length=5\n",
        "generator=TimeseriesGenerator(scaled_full_data,scaled_full_data,length=length,batch_size=batch_size)\n",
        "validation_generator=TimeseriesGenerator(scaled_full_data,scaled_full_data,length=length,batch_size=batch_size)"
      ],
      "metadata": {
        "id": "-a0VrkHhuSwJ"
      },
      "execution_count": null,
      "outputs": []
    },
    {
      "cell_type": "code",
      "source": [
        "#define the Sequential function\n",
        "model=Sequential()\n",
        "#add  LSTM to the model with input_shape\n",
        "model.add(LSTM(30,input_shape=(length,n_features)))\n",
        "#add the dropout function and add the learning rate\n",
        "model.add(Dropout(rate=0.2))\n",
        "#Add the dense layer\n",
        "model.add(Dense(1))\n",
        "#complie the model with optimize adam and mse loss\n",
        "model.compile(optimizer='adam',loss='mse')\n",
        "#and finaly fit the model\n",
        "model.fit_generator(generator,validation_data=validation_generator,epochs=10,callbacks=[early_stop],shuffle=False)"
      ],
      "metadata": {
        "id": "-U5RzHlUu4rt"
      },
      "execution_count": null,
      "outputs": []
    },
    {
      "cell_type": "code",
      "source": [
        "#create the data frame for model history and visualize it\n",
        "full_model=pd.DataFrame(model.history.history)\n",
        "full_model.plot()"
      ],
      "metadata": {
        "id": "-LgfT0zBvN-P"
      },
      "execution_count": null,
      "outputs": []
    },
    {
      "cell_type": "code",
      "source": [
        "#create a empty list for text_prediction\n",
        "forecast=[]\n",
        "first_eval_batch=scaled_train[-length:]\n",
        "current_batch=first_eval_batch.reshape(1,length,n_features)\n",
        "for i in range(len(test)):\n",
        "  current_pred=model.predict(current_batch)[0]\n",
        "  forecast.append(current_pred)\n",
        "  current_batch=np.append(current_batch[:,1:,:],[[current_pred]],axis=1)\n"
      ],
      "metadata": {
        "id": "SU6wg_bowDnW"
      },
      "execution_count": null,
      "outputs": []
    },
    {
      "cell_type": "code",
      "source": [
        "#transfor the above list into scaler transform and create data frame and visualize it\n",
        "forecast=scaler.inverse_transform(forecast)\n",
        "test['test_prediction']=forecast\n",
        "test.plot()"
      ],
      "metadata": {
        "id": "6TZOGslpwYSK"
      },
      "execution_count": null,
      "outputs": []
    },
    {
      "cell_type": "code",
      "source": [
        "#create a empty list for text_prediction\n",
        "forecast=[]\n",
        "first_eval_batch=scaled_train[-length:]\n",
        "current_batch=first_eval_batch.reshape(1,length,n_features)\n",
        "for i in range(5):\n",
        "  current_pred=model.predict(current_batch)[0]\n",
        "  forecast.append(current_pred)\n",
        "  current_batch=np.append(current_batch[:,1:,:],[[current_pred]],axis=1)\n"
      ],
      "metadata": {
        "id": "1fw1Cvalwehn"
      },
      "execution_count": null,
      "outputs": []
    },
    {
      "cell_type": "code",
      "source": [
        "#scaled the above data to invese form\n",
        "forecast=scaler.inverse_transform(forecast)"
      ],
      "metadata": {
        "id": "gs_JEIxwyrSV"
      },
      "execution_count": null,
      "outputs": []
    },
    {
      "cell_type": "code",
      "source": [
        "#create the dataframe test data and our prediction and flatten it and using the concatenate after that visualize it\n",
        "full_data=pd.DataFrame(np.concatenate((df_array.flatten(),forecast.flatten())))\n",
        "full_data.plot()"
      ],
      "metadata": {
        "id": "vj5fjC_DzC-G"
      },
      "execution_count": null,
      "outputs": []
    },
    {
      "cell_type": "code",
      "source": [
        "forecast"
      ],
      "metadata": {
        "id": "kSSY1IJvzDkS"
      },
      "execution_count": null,
      "outputs": []
    },
    {
      "cell_type": "code",
      "source": [
        "full_data.head()"
      ],
      "metadata": {
        "id": "_EAvk3IozHGS"
      },
      "execution_count": null,
      "outputs": []
    },
    {
      "cell_type": "code",
      "source": [
        "full_data.tail()"
      ],
      "metadata": {
        "id": "HjpSuMWszfS_"
      },
      "execution_count": null,
      "outputs": []
    },
    {
      "cell_type": "code",
      "source": [
        "data.head()"
      ],
      "metadata": {
        "id": "9ESGGe7Hzij1"
      },
      "execution_count": null,
      "outputs": []
    },
    {
      "cell_type": "code",
      "source": [
        "market=data[['Date','Close']]\n",
        "market.head()"
      ],
      "metadata": {
        "id": "IvS5wyrBTk-2"
      },
      "execution_count": null,
      "outputs": []
    },
    {
      "cell_type": "code",
      "source": [
        "scaled_data=scaler.fit_transform(tesla)\n",
        "scaled_data"
      ],
      "metadata": {
        "id": "C26_NLaAWGBg"
      },
      "execution_count": null,
      "outputs": []
    },
    {
      "cell_type": "code",
      "source": [
        "train_data=scaled_data[0:train_len,:]\n",
        "x_train=[]\n",
        "y_train=[]\n",
        "for i in range(60,len(train_data)):\n",
        "  x_train.append(train_data[i-60:i,0])\n",
        "  y_train.append(train_data[i,0])\n",
        "  if i<=60:\n",
        "    print(x_train)\n",
        "    print(y_train)\n",
        "    print()"
      ],
      "metadata": {
        "id": "hcNNyMD5WVYM"
      },
      "execution_count": null,
      "outputs": []
    },
    {
      "cell_type": "code",
      "source": [
        "x_train,y_train=np.array(x_train),np.array(y_train)"
      ],
      "metadata": {
        "id": "4NPoe2lmXTpT"
      },
      "execution_count": null,
      "outputs": []
    },
    {
      "cell_type": "code",
      "source": [
        "x_train=np.reshape(x_train,(x_train.shape[0],x_train.shape[1],1))\n",
        "x_train.shape"
      ],
      "metadata": {
        "id": "ycaaL4JWXe04"
      },
      "execution_count": null,
      "outputs": []
    },
    {
      "cell_type": "code",
      "source": [],
      "metadata": {
        "id": "5995ssKKXvHC"
      },
      "execution_count": null,
      "outputs": []
    },
    {
      "cell_type": "code",
      "source": [
        "model=Sequential()\n",
        "model.add(LSTM(64,return_sequences=True,input_shape=(x_train.shape[1],1)))\n",
        "model.add(LSTM(64,return_sequences=False))\n",
        "model.add(Dense(32))\n",
        "model.add(Dense(1))\n",
        "model.compile(optimizer='adam',loss='mean_squared_error')\n",
        "model.fit(x_train,y_train,batch_size=1,epochs=15)"
      ],
      "metadata": {
        "id": "yq5kp67HZnLP"
      },
      "execution_count": null,
      "outputs": []
    },
    {
      "cell_type": "code",
      "source": [
        "test_data=scaled_data[train_len-60:,:]\n",
        "x_test=[]\n",
        "for i in range(60,len(test_data)):\n",
        "  x_test.append(train_data[i-60:i,0])"
      ],
      "metadata": {
        "id": "8lDybiNqdXWn"
      },
      "execution_count": null,
      "outputs": []
    },
    {
      "cell_type": "code",
      "source": [
        "y_test=tesla[train_len:]\n",
        "y_test.head()"
      ],
      "metadata": {
        "id": "G4aBm7jvezqj"
      },
      "execution_count": null,
      "outputs": []
    },
    {
      "cell_type": "code",
      "source": [
        "x_test=np.array(x_test)\n",
        "x_test"
      ],
      "metadata": {
        "id": "4sIRvuaMe6Hp"
      },
      "execution_count": null,
      "outputs": []
    }
  ]
}